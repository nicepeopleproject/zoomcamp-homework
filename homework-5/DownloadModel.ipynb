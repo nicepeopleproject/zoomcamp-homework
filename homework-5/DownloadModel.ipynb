{
 "cells": [
  {
   "cell_type": "code",
   "execution_count": 1,
   "id": "74c8c70a",
   "metadata": {},
   "outputs": [
    {
     "name": "stdout",
     "output_type": "stream",
     "text": [
      "--2021-10-11 09:34:41--  https://raw.githubusercontent.com/alexeygrigorev/mlbookcamp-code/master/course-zoomcamp/05-deployment/homework/model1.bin\n",
      "Resolving raw.githubusercontent.com (raw.githubusercontent.com)... 185.199.110.133, 185.199.109.133, 185.199.111.133, ...\n",
      "Connecting to raw.githubusercontent.com (raw.githubusercontent.com)|185.199.110.133|:443... connected.\n",
      "HTTP request sent, awaiting response... 200 OK\n",
      "Length: 746 [application/octet-stream]\n",
      "Saving to: ‘model1.bin’\n",
      "\n",
      "model1.bin          100%[===================>]     746  --.-KB/s    in 0s      \n",
      "\n",
      "2021-10-11 09:34:41 (24.5 MB/s) - ‘model1.bin’ saved [746/746]\n",
      "\n",
      "--2021-10-11 09:34:41--  https://raw.githubusercontent.com/alexeygrigorev/mlbookcamp-code/master/course-zoomcamp/05-deployment/homework/dv.bin\n",
      "Resolving raw.githubusercontent.com (raw.githubusercontent.com)... 185.199.109.133, 185.199.111.133, 185.199.108.133, ...\n",
      "Connecting to raw.githubusercontent.com (raw.githubusercontent.com)|185.199.109.133|:443... connected.\n",
      "HTTP request sent, awaiting response... 200 OK\n",
      "Length: 323 [application/octet-stream]\n",
      "Saving to: ‘dv.bin’\n",
      "\n",
      "dv.bin              100%[===================>]     323  --.-KB/s    in 0s      \n",
      "\n",
      "2021-10-11 09:34:41 (6.55 MB/s) - ‘dv.bin’ saved [323/323]\n",
      "\n"
     ]
    }
   ],
   "source": [
    "PREFIX=\"https://raw.githubusercontent.com/alexeygrigorev/mlbookcamp-code/master/course-zoomcamp/05-deployment/homework\"\n",
    "!wget $PREFIX/model1.bin\n",
    "!wget $PREFIX/dv.bin"
   ]
  },
  {
   "cell_type": "code",
   "execution_count": null,
   "id": "c2663a34",
   "metadata": {},
   "outputs": [],
   "source": []
  }
 ],
 "metadata": {
  "kernelspec": {
   "display_name": "Python 3",
   "language": "python",
   "name": "python3"
  },
  "language_info": {
   "codemirror_mode": {
    "name": "ipython",
    "version": 3
   },
   "file_extension": ".py",
   "mimetype": "text/x-python",
   "name": "python",
   "nbconvert_exporter": "python",
   "pygments_lexer": "ipython3",
   "version": "3.8.8"
  }
 },
 "nbformat": 4,
 "nbformat_minor": 5
}
