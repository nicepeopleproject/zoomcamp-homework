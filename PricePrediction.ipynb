{
 "cells": [
  {
   "cell_type": "code",
   "execution_count": 1,
   "id": "2e130769",
   "metadata": {},
   "outputs": [],
   "source": [
    "import pandas as pd\n",
    "import seaborn as sbn\n",
    "import numpy as np"
   ]
  },
  {
   "cell_type": "code",
   "execution_count": 2,
   "id": "340a3d57",
   "metadata": {},
   "outputs": [],
   "source": [
    "data_url = 'https://raw.githubusercontent.com/alexeygrigorev/datasets/master/AB_NYC_2019.csv'"
   ]
  },
  {
   "cell_type": "code",
   "execution_count": 3,
   "id": "d3ac939c",
   "metadata": {},
   "outputs": [
    {
     "name": "stdout",
     "output_type": "stream",
     "text": [
      "--2021-09-19 12:09:31--  https://raw.githubusercontent.com/alexeygrigorev/datasets/master/AB_NYC_2019.csv\n",
      "Resolving raw.githubusercontent.com (raw.githubusercontent.com)... 185.199.111.133, 185.199.108.133, 185.199.110.133, ...\n",
      "Connecting to raw.githubusercontent.com (raw.githubusercontent.com)|185.199.111.133|:443... connected.\n",
      "HTTP request sent, awaiting response... 200 OK\n",
      "Length: 7077973 (6.8M) [text/plain]\n",
      "Saving to: ‘AB_NYC_2019.csv’\n",
      "\n",
      "AB_NYC_2019.csv     100%[===================>]   6.75M  7.32MB/s    in 0.9s    \n",
      "\n",
      "2021-09-19 12:09:32 (7.32 MB/s) - ‘AB_NYC_2019.csv’ saved [7077973/7077973]\n",
      "\n"
     ]
    }
   ],
   "source": [
    "#!wget $data_url"
   ]
  },
  {
   "cell_type": "code",
   "execution_count": 4,
   "id": "2284aefd",
   "metadata": {},
   "outputs": [],
   "source": [
    "df = pd.read_csv('AB_NYC_2019.csv')"
   ]
  },
  {
   "cell_type": "code",
   "execution_count": 13,
   "id": "2736dff5",
   "metadata": {},
   "outputs": [
    {
     "data": {
      "text/html": [
       "<div>\n",
       "<style scoped>\n",
       "    .dataframe tbody tr th:only-of-type {\n",
       "        vertical-align: middle;\n",
       "    }\n",
       "\n",
       "    .dataframe tbody tr th {\n",
       "        vertical-align: top;\n",
       "    }\n",
       "\n",
       "    .dataframe thead th {\n",
       "        text-align: right;\n",
       "    }\n",
       "</style>\n",
       "<table border=\"1\" class=\"dataframe\">\n",
       "  <thead>\n",
       "    <tr style=\"text-align: right;\">\n",
       "      <th></th>\n",
       "      <th>id</th>\n",
       "      <th>name</th>\n",
       "      <th>host_id</th>\n",
       "      <th>host_name</th>\n",
       "      <th>neighbourhood_group</th>\n",
       "      <th>neighbourhood</th>\n",
       "      <th>latitude</th>\n",
       "      <th>longitude</th>\n",
       "      <th>room_type</th>\n",
       "      <th>price</th>\n",
       "      <th>minimum_nights</th>\n",
       "      <th>number_of_reviews</th>\n",
       "      <th>last_review</th>\n",
       "      <th>reviews_per_month</th>\n",
       "      <th>calculated_host_listings_count</th>\n",
       "      <th>availability_365</th>\n",
       "    </tr>\n",
       "  </thead>\n",
       "  <tbody>\n",
       "    <tr>\n",
       "      <th>0</th>\n",
       "      <td>2539</td>\n",
       "      <td>Clean &amp; quiet apt home by the park</td>\n",
       "      <td>2787</td>\n",
       "      <td>John</td>\n",
       "      <td>Brooklyn</td>\n",
       "      <td>Kensington</td>\n",
       "      <td>40.64749</td>\n",
       "      <td>-73.97237</td>\n",
       "      <td>Private room</td>\n",
       "      <td>149</td>\n",
       "      <td>1</td>\n",
       "      <td>9</td>\n",
       "      <td>2018-10-19</td>\n",
       "      <td>0.21</td>\n",
       "      <td>6</td>\n",
       "      <td>365</td>\n",
       "    </tr>\n",
       "    <tr>\n",
       "      <th>1</th>\n",
       "      <td>2595</td>\n",
       "      <td>Skylit Midtown Castle</td>\n",
       "      <td>2845</td>\n",
       "      <td>Jennifer</td>\n",
       "      <td>Manhattan</td>\n",
       "      <td>Midtown</td>\n",
       "      <td>40.75362</td>\n",
       "      <td>-73.98377</td>\n",
       "      <td>Entire home/apt</td>\n",
       "      <td>225</td>\n",
       "      <td>1</td>\n",
       "      <td>45</td>\n",
       "      <td>2019-05-21</td>\n",
       "      <td>0.38</td>\n",
       "      <td>2</td>\n",
       "      <td>355</td>\n",
       "    </tr>\n",
       "  </tbody>\n",
       "</table>\n",
       "</div>"
      ],
      "text/plain": [
       "     id                                name  host_id host_name  \\\n",
       "0  2539  Clean & quiet apt home by the park     2787      John   \n",
       "1  2595               Skylit Midtown Castle     2845  Jennifer   \n",
       "\n",
       "  neighbourhood_group neighbourhood  latitude  longitude        room_type  \\\n",
       "0            Brooklyn    Kensington  40.64749  -73.97237     Private room   \n",
       "1           Manhattan       Midtown  40.75362  -73.98377  Entire home/apt   \n",
       "\n",
       "   price  minimum_nights  number_of_reviews last_review  reviews_per_month  \\\n",
       "0    149               1                  9  2018-10-19               0.21   \n",
       "1    225               1                 45  2019-05-21               0.38   \n",
       "\n",
       "   calculated_host_listings_count  availability_365  \n",
       "0                               6               365  \n",
       "1                               2               355  "
      ]
     },
     "execution_count": 13,
     "metadata": {},
     "output_type": "execute_result"
    }
   ],
   "source": [
    "df.head(2)"
   ]
  },
  {
   "cell_type": "code",
   "execution_count": 6,
   "id": "2cf43483",
   "metadata": {},
   "outputs": [
    {
     "data": {
      "text/plain": [
       "Index(['id', 'name', 'host_id', 'host_name', 'neighbourhood_group',\n",
       "       'neighbourhood', 'latitude', 'longitude', 'room_type', 'price',\n",
       "       'minimum_nights', 'number_of_reviews', 'last_review',\n",
       "       'reviews_per_month', 'calculated_host_listings_count',\n",
       "       'availability_365'],\n",
       "      dtype='object')"
      ]
     },
     "execution_count": 6,
     "metadata": {},
     "output_type": "execute_result"
    }
   ],
   "source": [
    "df.columns"
   ]
  },
  {
   "cell_type": "code",
   "execution_count": 9,
   "id": "485b9f69",
   "metadata": {},
   "outputs": [
    {
     "data": {
      "text/plain": [
       "count    48895.000000\n",
       "mean       152.720687\n",
       "std        240.154170\n",
       "min          0.000000\n",
       "25%         69.000000\n",
       "50%        106.000000\n",
       "75%        175.000000\n",
       "max      10000.000000\n",
       "Name: price, dtype: float64"
      ]
     },
     "execution_count": 9,
     "metadata": {},
     "output_type": "execute_result"
    }
   ],
   "source": [
    "df.price.describe()"
   ]
  },
  {
   "cell_type": "code",
   "execution_count": 12,
   "id": "88e970a5",
   "metadata": {},
   "outputs": [
    {
     "data": {
      "text/plain": [
       "<AxesSubplot:ylabel='Count'>"
      ]
     },
     "execution_count": 12,
     "metadata": {},
     "output_type": "execute_result"
    },
    {
     "data": {
      "image/png": "[encoded data removed]",
      "text/plain": [
       "<Figure size 432x288 with 1 Axes>"
      ]
     },
     "metadata": {
      "needs_background": "light"
     },
     "output_type": "display_data"
    }
   ],
   "source": [
    "sbn.histplot(np.log1p(df.price.values))"
   ]
  },
  {
   "cell_type": "code",
   "execution_count": 14,
   "id": "31bb1b33",
   "metadata": {},
   "outputs": [],
   "source": [
    "base_columns = ['latitude',\n",
    "'longitude',\n",
    "'price',\n",
    "'minimum_nights',\n",
    "'number_of_reviews',\n",
    "'reviews_per_month',\n",
    "'calculated_host_listings_count',\n",
    "'availability_365']"
   ]
  },
  {
   "cell_type": "code",
   "execution_count": 18,
   "id": "dc867a35",
   "metadata": {},
   "outputs": [],
   "source": [
    "df = df[base_columns] # base columns selection"
   ]
  },
  {
   "cell_type": "code",
   "execution_count": 20,
   "id": "bd2e1f8f",
   "metadata": {},
   "outputs": [
    {
     "data": {
      "text/plain": [
       "latitude                              0\n",
       "longitude                             0\n",
       "price                                 0\n",
       "minimum_nights                        0\n",
       "number_of_reviews                     0\n",
       "reviews_per_month                 10052\n",
       "calculated_host_listings_count        0\n",
       "availability_365                      0\n",
       "dtype: int64"
      ]
     },
     "execution_count": 20,
     "metadata": {},
     "output_type": "execute_result"
    }
   ],
   "source": [
    "df.isnull().sum()"
   ]
  },
  {
   "cell_type": "code",
   "execution_count": 21,
   "id": "85aa6480",
   "metadata": {},
   "outputs": [
    {
     "data": {
      "text/plain": [
       "count    48895.000000\n",
       "mean         7.029962\n",
       "std         20.510550\n",
       "min          1.000000\n",
       "25%          1.000000\n",
       "50%          3.000000\n",
       "75%          5.000000\n",
       "max       1250.000000\n",
       "Name: minimum_nights, dtype: float64"
      ]
     },
     "execution_count": 21,
     "metadata": {},
     "output_type": "execute_result"
    }
   ],
   "source": [
    "df.minimum_nights.describe()"
   ]
  },
  {
   "cell_type": "code",
   "execution_count": 27,
   "id": "67b41148",
   "metadata": {},
   "outputs": [],
   "source": [
    "np.random.seed(42)\n",
    "idx = np.arange(df.shape[0])\n",
    "np.random.shuffle(idx)"
   ]
  },
  {
   "cell_type": "code",
   "execution_count": 29,
   "id": "f6b5e043",
   "metadata": {},
   "outputs": [],
   "source": [
    "n = df.shape[0]\n",
    "n_train = int(0.6 * n)\n",
    "n_val = int(0.2 * n)\n",
    "n_test = n - n_val - n_train"
   ]
  },
  {
   "cell_type": "code",
   "execution_count": 30,
   "id": "c91218e5",
   "metadata": {},
   "outputs": [],
   "source": [
    "df_train = df.iloc[idx[:n_train]]\n",
    "df_val = df.iloc[idx[n_train: n_train + n_val]]\n",
    "df_test = df.iloc[idx[n_train+n_val:]]"
   ]
  },
  {
   "cell_type": "code",
   "execution_count": 31,
   "id": "a0e93f26",
   "metadata": {},
   "outputs": [
    {
     "data": {
      "text/plain": [
       "True"
      ]
     },
     "execution_count": 31,
     "metadata": {},
     "output_type": "execute_result"
    }
   ],
   "source": [
    "df_train.shape[0] + df_val.shape[0] + df_test.shape[0] == n"
   ]
  },
  {
   "cell_type": "code",
   "execution_count": 34,
   "id": "fff44e62",
   "metadata": {},
   "outputs": [],
   "source": [
    "df_train = df_train.reset_index(drop = True)\n",
    "df_val = df_val.reset_index(drop = True)\n",
    "df_test = df_test.reset_index(drop = True)"
   ]
  },
  {
   "cell_type": "code",
   "execution_count": 35,
   "id": "c82aaa1e",
   "metadata": {},
   "outputs": [],
   "source": [
    "y_train = df_train.price.values\n",
    "y_val = df_val.price.values\n",
    "y_test = df_test.price.values"
   ]
  },
  {
   "cell_type": "code",
   "execution_count": 37,
   "id": "01d8c6e2",
   "metadata": {},
   "outputs": [],
   "source": [
    "del df_train['price']\n",
    "del df_val['price']\n",
    "del df_test['price']"
   ]
  },
  {
   "cell_type": "code",
   "execution_count": 39,
   "id": "ddb792ab",
   "metadata": {},
   "outputs": [],
   "source": [
    "y_train = np.log1p(y_train)\n",
    "y_val = np.log1p(y_val)\n",
    "y_test = np.log1p(y_test)"
   ]
  },
  {
   "cell_type": "code",
   "execution_count": 40,
   "id": "92548d15",
   "metadata": {},
   "outputs": [],
   "source": [
    "def train_linear_regression(X, y):\n",
    "    ones = np.ones(X.shape[0])\n",
    "    X = np.column_stack([ones, X])\n",
    "    w_full = np.linalg.inv(X.T.dot(X)).dot(X.T).dot(y)\n",
    "    \n",
    "    return w_full[0], w_full[1:] # base_term + weights"
   ]
  },
  {
   "cell_type": "code",
   "execution_count": 44,
   "id": "84078cef",
   "metadata": {},
   "outputs": [],
   "source": [
    "def rmse(y, y_train):\n",
    "    return np.sqrt(((y - y_train)**2).mean())"
   ]
  },
  {
   "cell_type": "code",
   "execution_count": 60,
   "id": "3770a8ad",
   "metadata": {},
   "outputs": [],
   "source": [
    "def prepare_X(df):\n",
    "    df = df.copy()\n",
    "    df.reviews_per_month = df.reviews_per_month.fillna(0)\n",
    "    return df.values"
   ]
  },
  {
   "cell_type": "code",
   "execution_count": 61,
   "id": "4c302ed6",
   "metadata": {},
   "outputs": [],
   "source": [
    "w0, w = train_linear_regression(prepare_X(df_train), y_train)"
   ]
  },
  {
   "cell_type": "code",
   "execution_count": 62,
   "id": "ceef4972",
   "metadata": {},
   "outputs": [],
   "source": [
    "y_pred = w0 + prepare_X(df_val).dot(w)"
   ]
  },
  {
   "cell_type": "code",
   "execution_count": 64,
   "id": "c3e2d8bd",
   "metadata": {},
   "outputs": [
    {
     "data": {
      "text/plain": [
       "0.64"
      ]
     },
     "execution_count": 64,
     "metadata": {},
     "output_type": "execute_result"
    }
   ],
   "source": [
    "round(rmse(y_pred, y_val), 2) # fill null with 0"
   ]
  },
  {
   "cell_type": "code",
   "execution_count": 65,
   "id": "7647ec74",
   "metadata": {},
   "outputs": [],
   "source": [
    "mean_reviews_per_month = df_train.reviews_per_month.mean()"
   ]
  },
  {
   "cell_type": "code",
   "execution_count": 66,
   "id": "25db454c",
   "metadata": {},
   "outputs": [],
   "source": [
    "def prepare_X(df):\n",
    "    df = df.copy()\n",
    "    df.reviews_per_month = df.reviews_per_month.fillna(mean_reviews_per_month)\n",
    "    return df.values"
   ]
  },
  {
   "cell_type": "code",
   "execution_count": 67,
   "id": "bb091b9d",
   "metadata": {},
   "outputs": [
    {
     "data": {
      "text/plain": [
       "0.64"
      ]
     },
     "execution_count": 67,
     "metadata": {},
     "output_type": "execute_result"
    }
   ],
   "source": [
    "w0, w = train_linear_regression(prepare_X(df_train), y_train)\n",
    "y_pred = w0 + prepare_X(df_val).dot(w)\n",
    "round(rmse(y_pred, y_val), 2) # fill null with 0"
   ]
  },
  {
   "cell_type": "code",
   "execution_count": 74,
   "id": "49cd16de",
   "metadata": {},
   "outputs": [],
   "source": [
    "def train_linear_regression_with_reg(X, y, r):\n",
    "    ones = np.ones(X.shape[0])\n",
    "    X = np.column_stack([ones, X])\n",
    "    w_full = np.linalg.inv(X.T.dot(X) + r*np.eye(X.shape[1])).dot(X.T).dot(y)\n",
    "    \n",
    "    return w_full[0], w_full[1:] # base_term + weights"
   ]
  },
  {
   "cell_type": "code",
   "execution_count": 75,
   "id": "adb991ff",
   "metadata": {},
   "outputs": [],
   "source": [
    "def prepare_X(df):\n",
    "    df = df.copy()\n",
    "    df.reviews_per_month = df.reviews_per_month.fillna(0)\n",
    "    return df.values"
   ]
  },
  {
   "cell_type": "code",
   "execution_count": 76,
   "id": "064849e7",
   "metadata": {},
   "outputs": [
    {
     "name": "stdout",
     "output_type": "stream",
     "text": [
      "0 0.64\n",
      "1e-06 0.64\n",
      "0.0001 0.64\n",
      "0.001 0.64\n",
      "0.01 0.66\n",
      "0.1 0.68\n",
      "1 0.68\n",
      "5 0.68\n",
      "10 0.68\n"
     ]
    }
   ],
   "source": [
    "for r in [0, 0.000001, 0.0001, 0.001, 0.01, 0.1, 1, 5, 10]:\n",
    "    w0, w = train_linear_regression_with_reg(prepare_X(df_train), y_train, r)\n",
    "    y_pred = w0 + prepare_X(df_val).dot(w)\n",
    "    print(r, round(rmse(y_pred, y_val), 2)) # fill null with 0"
   ]
  },
  {
   "cell_type": "code",
   "execution_count": 97,
   "id": "eecb401f",
   "metadata": {},
   "outputs": [],
   "source": [
    "rmse_list = []\n",
    "for seed in range(10):\n",
    "    np.random.seed(seed)\n",
    "    idx = np.arange(df.shape[0])\n",
    "    np.random.shuffle(idx)\n",
    "    df_train = df.iloc[idx[:n_train]]\n",
    "    df_val = df.iloc[idx[n_train: n_train + n_val]]\n",
    "    df_test = df.iloc[idx[n_train+n_val:]]\n",
    "    df_train = df_train.reset_index(drop = True)\n",
    "    df_val = df_val.reset_index(drop = True)\n",
    "    df_test = df_test.reset_index(drop = True)\n",
    "    y_train = df_train.price.values\n",
    "    y_val = df_val.price.values\n",
    "    y_test = df_test.price.values\n",
    "    del df_train['price']\n",
    "    del df_val['price']\n",
    "    del df_test['price']\n",
    "    y_train = np.log1p(y_train)\n",
    "    y_val = np.log1p(y_val)\n",
    "    y_test = np.log1p(y_test)\n",
    "    w0, w = train_linear_regression(prepare_X(df_train), y_train)\n",
    "    y_pred = w0 + prepare_X(df_val).dot(w)\n",
    "    rmse_list.append(rmse(y_pred, y_val))"
   ]
  },
  {
   "cell_type": "code",
   "execution_count": 98,
   "id": "541f03fd",
   "metadata": {},
   "outputs": [
    {
     "data": {
      "text/plain": [
       "0.008"
      ]
     },
     "execution_count": 98,
     "metadata": {},
     "output_type": "execute_result"
    }
   ],
   "source": [
    "round(np.std(rmse_list), 3)"
   ]
  },
  {
   "cell_type": "code",
   "execution_count": 81,
   "id": "6dc97fa6",
   "metadata": {},
   "outputs": [
    {
     "data": {
      "text/plain": [
       "[0.6549779961658987,\n",
       " 0.6462523685602715,\n",
       " 0.6476558177088931,\n",
       " 0.6375145070618105,\n",
       " 0.6445809083397473,\n",
       " 0.6305809996462435,\n",
       " 0.6297851915888546,\n",
       " 0.6506184266349645,\n",
       " 0.6489780353206073,\n",
       " 0.6437565167963215]"
      ]
     },
     "execution_count": 81,
     "metadata": {},
     "output_type": "execute_result"
    }
   ],
   "source": [
    "rmse_list"
   ]
  },
  {
   "cell_type": "code",
   "execution_count": 85,
   "id": "637ac4a7",
   "metadata": {},
   "outputs": [],
   "source": [
    "np.random.seed(9)\n",
    "idx = np.arange(df.shape[0])\n",
    "np.random.shuffle(idx)\n",
    "df_train = df.iloc[idx[:n_train]]\n",
    "df_val = df.iloc[idx[n_train: n_train + n_val]]\n",
    "df_test = df.iloc[idx[n_train+n_val:]]\n",
    "df_train = df_train.reset_index(drop = True)\n",
    "df_val = df_val.reset_index(drop = True)\n",
    "df_test = df_test.reset_index(drop = True)\n",
    "y_train = df_train.price.values\n",
    "y_val = df_val.price.values\n",
    "y_test = df_test.price.values\n",
    "del df_train['price']\n",
    "del df_val['price']\n",
    "del df_test['price']\n",
    "y_train = np.log1p(y_train)\n",
    "y_val = np.log1p(y_val)\n",
    "y_test = np.log1p(y_test)"
   ]
  },
  {
   "cell_type": "code",
   "execution_count": 88,
   "id": "4473dc3f",
   "metadata": {
    "scrolled": true
   },
   "outputs": [],
   "source": [
    "df_train_and_val = pd.concat([df_train, df_val])\n",
    "df_train_and_val = df_train_and_val.reset_index(drop = True)"
   ]
  },
  {
   "cell_type": "code",
   "execution_count": 89,
   "id": "96c941c3",
   "metadata": {},
   "outputs": [],
   "source": [
    "y_train_and_val = np.concatenate([y_train, y_val])"
   ]
  },
  {
   "cell_type": "code",
   "execution_count": 92,
   "id": "efc6a4c9",
   "metadata": {},
   "outputs": [],
   "source": [
    "w0, w = train_linear_regression_with_reg(prepare_X(df_train_and_val), y_train_and_val, 0.001)"
   ]
  },
  {
   "cell_type": "code",
   "execution_count": 93,
   "id": "f9ce2d15",
   "metadata": {},
   "outputs": [],
   "source": [
    "y_pred = w0 + prepare_X(df_test).dot(w)"
   ]
  },
  {
   "cell_type": "code",
   "execution_count": 94,
   "id": "aebe788d",
   "metadata": {},
   "outputs": [
    {
     "data": {
      "text/plain": [
       "0.6452771349036991"
      ]
     },
     "execution_count": 94,
     "metadata": {},
     "output_type": "execute_result"
    }
   ],
   "source": [
    "rmse(y_test, y_pred)"
   ]
  },
  {
   "cell_type": "code",
   "execution_count": 99,
   "id": "e57057d7",
   "metadata": {},
   "outputs": [
    {
     "data": {
      "text/plain": [
       "262.06970158770326"
      ]
     },
     "execution_count": 99,
     "metadata": {},
     "output_type": "execute_result"
    }
   ],
   "source": [
    "rmse(np.expm1(y_test), np.expm1(y_pred))"
   ]
  },
  {
   "cell_type": "code",
   "execution_count": null,
   "id": "fca68425",
   "metadata": {},
   "outputs": [],
   "source": []
  }
 ],
 "metadata": {
  "kernelspec": {
   "display_name": "Python 3",
   "language": "python",
   "name": "python3"
  },
  "language_info": {
   "codemirror_mode": {
    "name": "ipython",
    "version": 3
   },
   "file_extension": ".py",
   "mimetype": "text/x-python",
   "name": "python",
   "nbconvert_exporter": "python",
   "pygments_lexer": "ipython3",
   "version": "3.8.8"
  }
 },
 "nbformat": 4,
 "nbformat_minor": 5
}
